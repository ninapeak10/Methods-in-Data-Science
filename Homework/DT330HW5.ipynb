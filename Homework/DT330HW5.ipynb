{
 "cells": [
  {
   "cell_type": "markdown",
   "metadata": {},
   "source": [
    "Homework #5 Chapter 5: Exercises 8 (except part (d)) and 9 (except part (g and h)) \n",
    "\n",
    "Chapter 6: Exercises 8 (except part (f)) and 11 (except PCR)"
   ]
  },
  {
   "cell_type": "markdown",
   "metadata": {},
   "source": [
    "8. We will now perform cross-validation on a simulated data set."
   ]
  },
  {
   "cell_type": "code",
   "execution_count": 80,
   "metadata": {},
   "outputs": [
    {
     "name": "stdout",
     "output_type": "stream",
     "text": [
      "Requirement already satisfied: statsmodels in /home/codespace/.python/current/lib/python3.12/site-packages (0.14.4)\n",
      "Requirement already satisfied: numpy<3,>=1.22.3 in /home/codespace/.local/lib/python3.12/site-packages (from statsmodels) (2.1.1)\n",
      "Requirement already satisfied: scipy!=1.9.2,>=1.8 in /home/codespace/.local/lib/python3.12/site-packages (from statsmodels) (1.14.1)\n",
      "Requirement already satisfied: pandas!=2.1.0,>=1.4 in /home/codespace/.local/lib/python3.12/site-packages (from statsmodels) (2.2.3)\n",
      "Requirement already satisfied: patsy>=0.5.6 in /home/codespace/.python/current/lib/python3.12/site-packages (from statsmodels) (1.0.1)\n",
      "Requirement already satisfied: packaging>=21.3 in /home/codespace/.local/lib/python3.12/site-packages (from statsmodels) (24.1)\n",
      "Requirement already satisfied: python-dateutil>=2.8.2 in /home/codespace/.local/lib/python3.12/site-packages (from pandas!=2.1.0,>=1.4->statsmodels) (2.9.0.post0)\n",
      "Requirement already satisfied: pytz>=2020.1 in /home/codespace/.local/lib/python3.12/site-packages (from pandas!=2.1.0,>=1.4->statsmodels) (2024.2)\n",
      "Requirement already satisfied: tzdata>=2022.7 in /home/codespace/.local/lib/python3.12/site-packages (from pandas!=2.1.0,>=1.4->statsmodels) (2024.2)\n",
      "Requirement already satisfied: six>=1.5 in /home/codespace/.local/lib/python3.12/site-packages (from python-dateutil>=2.8.2->pandas!=2.1.0,>=1.4->statsmodels) (1.16.0)\n",
      "\n",
      "\u001b[1m[\u001b[0m\u001b[34;49mnotice\u001b[0m\u001b[1;39;49m]\u001b[0m\u001b[39;49m A new release of pip is available: \u001b[0m\u001b[31;49m24.2\u001b[0m\u001b[39;49m -> \u001b[0m\u001b[32;49m24.3.1\u001b[0m\n",
      "\u001b[1m[\u001b[0m\u001b[34;49mnotice\u001b[0m\u001b[1;39;49m]\u001b[0m\u001b[39;49m To update, run: \u001b[0m\u001b[32;49mpip install --upgrade pip\u001b[0m\n",
      "Note: you may need to restart the kernel to use updated packages.\n"
     ]
    }
   ],
   "source": [
    "pip install statsmodels"
   ]
  },
  {
   "cell_type": "code",
   "execution_count": 81,
   "metadata": {},
   "outputs": [],
   "source": [
    "import pandas as pd\n",
    "import numpy as np\n",
    "import math\n",
    "import matplotlib.pyplot as plt\n",
    "from sklearn.model_selection import LeaveOneOut \n",
    "from sklearn.linear_model import LinearRegression\n",
    "from sklearn.preprocessing import PolynomialFeatures\n",
    "from sklearn.pipeline import Pipeline\n",
    "from sklearn.metrics import mean_squared_error\n",
    "from sklearn.model_selection import train_test_split, cross_val_score\n",
    "from sklearn.preprocessing import StandardScaler\n",
    "from sklearn.linear_model import LassoCV\n",
    "from sklearn.linear_model import Lasso, RidgeCV\n",
    "from sklearn.decomposition import PCA\n",
    "from statsmodels.tools import add_constant\n",
    "import statsmodels.api as sm\n",
    "import itertools\n"
   ]
  },
  {
   "cell_type": "code",
   "execution_count": 82,
   "metadata": {},
   "outputs": [],
   "source": [
    "#(a) In this data set, what is n and what is p? Write out the model used to generate the data in equation form.\n",
    "rng = np.random.default_rng(1)\n",
    "x = rng.normal(size=100)\n",
    "y = x - 2 * x**2 + rng.normal(size=100)\n",
    " "
   ]
  },
  {
   "cell_type": "markdown",
   "metadata": {},
   "source": [
    "n = number of observations = 100\n",
    "\n",
    "p = number of predictors = 2 (X and X^2)\n",
    "\n",
    "Model in equation form: Y=X−2X^2+ϵ"
   ]
  },
  {
   "cell_type": "code",
   "execution_count": 83,
   "metadata": {},
   "outputs": [
    {
     "data": {
      "image/png": "[encoded data removed]",
      "text/plain": [
       "<Figure size 640x480 with 1 Axes>"
      ]
     },
     "metadata": {},
     "output_type": "display_data"
    }
   ],
   "source": [
    "#(b) Create a scatterplot of X against Y . Comment on what you find.\n",
    "plt.scatter(x, y);"
   ]
  },
  {
   "cell_type": "markdown",
   "metadata": {},
   "source": [
    "Comments:\n",
    "Quadratic plot\n",
    "Negative concavity\n",
    "X from about -2 to 2\n",
    "Y from about -10 to 2\n"
   ]
  },
  {
   "cell_type": "code",
   "execution_count": 84,
   "metadata": {},
   "outputs": [
    {
     "name": "stdout",
     "output_type": "stream",
     "text": [
      "Model 1: LOOCV Error = 6.6330\n",
      "Model 2: LOOCV Error = 1.1229\n",
      "Model 3: LOOCV Error = 1.3018\n",
      "Model 4: LOOCV Error = 1.3324\n"
     ]
    }
   ],
   "source": [
    "#(c) Set a random seed, and then compute the LOOCV errors that result from fitting the following four models\n",
    "data = pd.DataFrame({'X': x, 'Y': y})\n",
    "\n",
    "loo = LeaveOneOut()\n",
    "\n",
    "def loocv_error(formula, data):\n",
    "    errors = []\n",
    "    for train_index, test_index in loo.split(data):\n",
    "        train_data, test_data = data.iloc[train_index], data.iloc[test_index]\n",
    "        model = sm.OLS.from_formula(formula, data=train_data).fit()\n",
    "        prediction = model.predict(test_data)\n",
    "        errors.append((test_data['Y'].values[0] - prediction) ** 2)\n",
    "    return np.mean(errors)\n",
    "\n",
    "models = {\n",
    "    'Model 1': 'Y ~ X',\n",
    "    'Model 2': 'Y ~ X + I(X**2)',\n",
    "    'Model 3': 'Y ~ X + I(X**2) + I(X**3)',\n",
    "    'Model 4': 'Y ~ X + I(X**2) + I(X**3) + I(X**4)'\n",
    "}\n",
    "\n",
    "loocv_errors = {name: loocv_error(formula, data) for name, formula in models.items()}\n",
    "\n",
    "for model_name, error in loocv_errors.items():\n",
    "    print(f\"{model_name}: LOOCV Error = {error:.4f}\")"
   ]
  },
  {
   "cell_type": "markdown",
   "metadata": {},
   "source": [
    "(e) Which of the models in (c) had the smallest LOOCV error? Is this what you expected? Explain your answer.\n",
    "\n",
    "Model 2, which is the quadratic model had the smallest LOOCV error of 1.1229.\n",
    "\n",
    "Model 1 (linear) is likely to perform poorly because it cannot capture the curvature of the true relationship, resulting in a high LOOCV error.\n",
    "Model 2 (quadratic) fits the underlying data structure effectively, thus yielding the lowest error.\n",
    "Models 3 and 4 add higher-order polynomial terms, which may lead to slight overfitting, especially since the true relationship does not require terms beyond."
   ]
  },
  {
   "cell_type": "code",
   "execution_count": 85,
   "metadata": {},
   "outputs": [
    {
     "name": "stdout",
     "output_type": "stream",
     "text": [
      "Model with degree 1:\n",
      "                            OLS Regression Results                            \n",
      "==============================================================================\n",
      "Dep. Variable:                      Y   R-squared:                       0.318\n",
      "Model:                            OLS   Adj. R-squared:                  0.311\n",
      "Method:                 Least Squares   F-statistic:                     45.60\n",
      "Date:                Sat, 16 Nov 2024   Prob (F-statistic):           1.04e-09\n",
      "Time:                        05:38:35   Log-Likelihood:                -230.83\n",
      "No. Observations:                 100   AIC:                             465.7\n",
      "Df Residuals:                      98   BIC:                             470.9\n",
      "Df Model:                           1                                         \n",
      "Covariance Type:            nonrobust                                         \n",
      "==============================================================================\n",
      "                 coef    std err          t      P>|t|      [0.025      0.975]\n",
      "------------------------------------------------------------------------------\n",
      "const         -1.4650      0.247     -5.937      0.000      -1.955      -0.975\n",
      "x1             1.9494      0.289      6.752      0.000       1.376       2.522\n",
      "==============================================================================\n",
      "Omnibus:                       52.788   Durbin-Watson:                   1.972\n",
      "Prob(Omnibus):                  0.000   Jarque-Bera (JB):              149.089\n",
      "Skew:                          -1.953   Prob(JB):                     4.22e-33\n",
      "Kurtosis:                       7.530   Cond. No.                         1.20\n",
      "==============================================================================\n",
      "\n",
      "Notes:\n",
      "[1] Standard Errors assume that the covariance matrix of the errors is correctly specified.\n",
      "\n",
      "Model with degree 2:\n",
      "                            OLS Regression Results                            \n",
      "==============================================================================\n",
      "Dep. Variable:                      Y   R-squared:                       0.887\n",
      "Model:                            OLS   Adj. R-squared:                  0.884\n",
      "Method:                 Least Squares   F-statistic:                     379.5\n",
      "Date:                Sat, 16 Nov 2024   Prob (F-statistic):           1.36e-46\n",
      "Time:                        05:38:35   Log-Likelihood:                -141.06\n",
      "No. Observations:                 100   AIC:                             288.1\n",
      "Df Residuals:                      97   BIC:                             295.9\n",
      "Df Model:                           2                                         \n",
      "Covariance Type:            nonrobust                                         \n",
      "==============================================================================\n",
      "                 coef    std err          t      P>|t|      [0.025      0.975]\n",
      "------------------------------------------------------------------------------\n",
      "const         -0.0728      0.119     -0.611      0.543      -0.309       0.164\n",
      "x1             0.9663      0.126      7.647      0.000       0.715       1.217\n",
      "x2            -2.0047      0.091    -22.072      0.000      -2.185      -1.824\n",
      "==============================================================================\n",
      "Omnibus:                        1.338   Durbin-Watson:                   2.197\n",
      "Prob(Omnibus):                  0.512   Jarque-Bera (JB):                0.814\n",
      "Skew:                           0.119   Prob(JB):                        0.666\n",
      "Kurtosis:                       3.372   Cond. No.                         2.23\n",
      "==============================================================================\n",
      "\n",
      "Notes:\n",
      "[1] Standard Errors assume that the covariance matrix of the errors is correctly specified.\n",
      "\n",
      "Model with degree 3:\n",
      "                            OLS Regression Results                            \n",
      "==============================================================================\n",
      "Dep. Variable:                      Y   R-squared:                       0.888\n",
      "Model:                            OLS   Adj. R-squared:                  0.885\n",
      "Method:                 Least Squares   F-statistic:                     253.8\n",
      "Date:                Sat, 16 Nov 2024   Prob (F-statistic):           1.70e-45\n",
      "Time:                        05:38:35   Log-Likelihood:                -140.47\n",
      "No. Observations:                 100   AIC:                             288.9\n",
      "Df Residuals:                      96   BIC:                             299.4\n",
      "Df Model:                           3                                         \n",
      "Covariance Type:            nonrobust                                         \n",
      "==============================================================================\n",
      "                 coef    std err          t      P>|t|      [0.025      0.975]\n",
      "------------------------------------------------------------------------------\n",
      "const         -0.0572      0.120     -0.477      0.635      -0.295       0.181\n",
      "x1             1.1146      0.187      5.945      0.000       0.742       1.487\n",
      "x2            -2.0471      0.099    -20.673      0.000      -2.244      -1.851\n",
      "x3            -0.0643      0.060     -1.070      0.287      -0.184       0.055\n",
      "==============================================================================\n",
      "Omnibus:                        0.845   Durbin-Watson:                   2.199\n",
      "Prob(Omnibus):                  0.655   Jarque-Bera (JB):                0.392\n",
      "Skew:                           0.052   Prob(JB):                        0.822\n",
      "Kurtosis:                       3.289   Cond. No.                         5.95\n",
      "==============================================================================\n",
      "\n",
      "Notes:\n",
      "[1] Standard Errors assume that the covariance matrix of the errors is correctly specified.\n",
      "\n",
      "Model with degree 4:\n",
      "                            OLS Regression Results                            \n",
      "==============================================================================\n",
      "Dep. Variable:                      Y   R-squared:                       0.894\n",
      "Model:                            OLS   Adj. R-squared:                  0.890\n",
      "Method:                 Least Squares   F-statistic:                     200.2\n",
      "Date:                Sat, 16 Nov 2024   Prob (F-statistic):           2.22e-45\n",
      "Time:                        05:38:35   Log-Likelihood:                -137.74\n",
      "No. Observations:                 100   AIC:                             285.5\n",
      "Df Residuals:                      95   BIC:                             298.5\n",
      "Df Model:                           4                                         \n",
      "Covariance Type:            nonrobust                                         \n",
      "==============================================================================\n",
      "                 coef    std err          t      P>|t|      [0.025      0.975]\n",
      "------------------------------------------------------------------------------\n",
      "const          0.1008      0.136      0.743      0.460      -0.169       0.370\n",
      "x1             0.9050      0.205      4.423      0.000       0.499       1.311\n",
      "x2            -2.5059      0.221    -11.336      0.000      -2.945      -2.067\n",
      "x3             0.0338      0.073      0.466      0.642      -0.110       0.178\n",
      "x4             0.1042      0.045      2.309      0.023       0.015       0.194\n",
      "==============================================================================\n",
      "Omnibus:                        2.476   Durbin-Watson:                   2.163\n",
      "Prob(Omnibus):                  0.290   Jarque-Bera (JB):                2.097\n",
      "Skew:                           0.118   Prob(JB):                        0.351\n",
      "Kurtosis:                       3.669   Cond. No.                         19.9\n",
      "==============================================================================\n",
      "\n",
      "Notes:\n",
      "[1] Standard Errors assume that the covariance matrix of the errors is correctly specified.\n",
      "\n"
     ]
    }
   ],
   "source": [
    "#(f) Comment on the statistical significance of the coefficient estimates that results from fitting each of the models in (c) using least squares. Do these results agree with the conclusions drawn based on the cross-validation results?\n",
    "\n",
    "min_deg = 1  \n",
    "max_deg = 4 + 1 \n",
    "\n",
    "for i in range(min_deg, max_deg):\n",
    "    pol = PolynomialFeatures(degree=i)\n",
    "    X_pol = pol.fit_transform(data['X'].values.reshape(-1, 1))  # Create polynomial features\n",
    "    y = data['Y']\n",
    "    \n",
    "    model = sm.OLS(y, X_pol)\n",
    "    results = model.fit()\n",
    "    \n",
    "    print(f\"Model with degree {i}:\\n{results.summary()}\\n\")"
   ]
  },
  {
   "cell_type": "markdown",
   "metadata": {},
   "source": [
    "As we can see, when we have a second order polynomial, both x1 and x2 have high t-statistic values. When we have a third order polynomial, x2 has the highest t-statistic, followed by x1 and then by x3. Finally, when we have a fourth order polynomial, x2 is the variable with the highest t-statistic, followed by x1, x4 and x3.\n",
    "\n",
    "We can conclude that x2 and x1 are variables with relevance for the presented models. These results agree with the conclusions drawn based on the cross-validation results, showing that the first and second order terms are the most significant."
   ]
  },
  {
   "cell_type": "markdown",
   "metadata": {},
   "source": [
    "9. We will now consider the Boston housing data set, from the ISLP library.\n",
    "(a) Based on this data set, provide an estimate for the population mean of medv. Call this estimate μˆ."
   ]
  },
  {
   "cell_type": "code",
   "execution_count": 86,
   "metadata": {},
   "outputs": [
    {
     "name": "stdout",
     "output_type": "stream",
     "text": [
      "   Unnamed: 0     crim    zn  indus  chas    nox     rm   age     dis  rad  \\\n",
      "0           1  0.00632  18.0   2.31     0  0.538  6.575  65.2  4.0900    1   \n",
      "1           2  0.02731   0.0   7.07     0  0.469  6.421  78.9  4.9671    2   \n",
      "2           3  0.02729   0.0   7.07     0  0.469  7.185  61.1  4.9671    2   \n",
      "3           4  0.03237   0.0   2.18     0  0.458  6.998  45.8  6.0622    3   \n",
      "4           5  0.06905   0.0   2.18     0  0.458  7.147  54.2  6.0622    3   \n",
      "\n",
      "   tax  ptratio  lstat  medv  \n",
      "0  296     15.3   4.98  24.0  \n",
      "1  242     17.8   9.14  21.6  \n",
      "2  242     17.8   4.03  34.7  \n",
      "3  222     18.7   2.94  33.4  \n",
      "4  222     18.7   5.33  36.2  \n"
     ]
    }
   ],
   "source": [
    "Boston= pd.read_csv('Boston.csv') \n",
    "print(Boston.head(5))"
   ]
  },
  {
   "cell_type": "code",
   "execution_count": 87,
   "metadata": {},
   "outputs": [
    {
     "name": "stdout",
     "output_type": "stream",
     "text": [
      "Estimated population mean of medv (μˆ): 22.53\n"
     ]
    }
   ],
   "source": [
    "#(a) Based on this data set, provide an estimate for the population mean of medv. Call this estimate μˆ.\n",
    "mean_medv = Boston['medv'].mean()\n",
    "\n",
    "print(f\"Estimated population mean of medv (μˆ): {mean_medv:.2f}\")"
   ]
  },
  {
   "cell_type": "code",
   "execution_count": 88,
   "metadata": {},
   "outputs": [
    {
     "name": "stdout",
     "output_type": "stream",
     "text": [
      "Estimated standard error of μˆ: 0.40886\n"
     ]
    }
   ],
   "source": [
    "#(b) Provide an estimate of the standard error of μˆ. Interpret this result.\n",
    "#Hint: We can compute the standard error of the sample mean by dividing the sample standard deviation by the \n",
    "#square root of the number of observations.\n",
    "std_dev_medv = Boston['medv'].std()\n",
    "\n",
    "n = Boston['medv'].count()\n",
    "\n",
    "standard_error = std_dev_medv / (n ** 0.5)\n",
    "\n",
    "print(f\"Estimated standard error of μˆ: {standard_error:.5f}\")"
   ]
  },
  {
   "cell_type": "code",
   "execution_count": 89,
   "metadata": {},
   "outputs": [
    {
     "name": "stdout",
     "output_type": "stream",
     "text": [
      "Estimated standard error of μˆ using bootstrap: 0.39882\n"
     ]
    }
   ],
   "source": [
    "#(c) Now estimate the standard error of μˆ using the bootstrap. How does this compare to your answer from (b)?\n",
    "n_bootstrap = 1000\n",
    "bootstrap_means = []\n",
    "bootstrap_medians = []\n",
    "\n",
    "for _ in range(n_bootstrap):\n",
    "    sample = Boston['medv'].sample(frac=1, replace=True)\n",
    "    bootstrap_means.append(sample.mean())\n",
    "    bootstrap_medians.append(sample.median())\n",
    "\n",
    "bootstrap_standard_error = np.std(bootstrap_means)\n",
    "\n",
    "print(f\"Estimated standard error of μˆ using bootstrap: {bootstrap_standard_error:.5f}\")"
   ]
  },
  {
   "cell_type": "markdown",
   "metadata": {},
   "source": [
    "The two estimates are quite close, with the bootstrap standard error being slightly higher. This similarity suggests that the sample mean is a stable estimate of the population mean, and both methods provide consistent results."
   ]
  },
  {
   "cell_type": "code",
   "execution_count": 90,
   "metadata": {},
   "outputs": [
    {
     "name": "stdout",
     "output_type": "stream",
     "text": [
      "95% Confidence Interval for mean of medv: (np.float64(21.735165406031363), np.float64(23.33044724218999))\n"
     ]
    }
   ],
   "source": [
    "#(d) Based on your bootstrap estimate from (c), provide a 95 % con- fidence interval for the mean of medv.\n",
    "#  Compare it to the results obtained by using Boston['medv'].std() and the two standard error rule (3.9).\n",
    "#Hint: You can approximate a 95 % confidence interval using the formula [μˆ − 2SE(μˆ), μˆ + 2SE(μˆ)].\n",
    "\n",
    "confidence_interval = (mean_medv - 2 * bootstrap_standard_error, mean_medv + 2 * bootstrap_standard_error)\n",
    "\n",
    "print(f\"95% Confidence Interval for mean of medv: {confidence_interval}\")"
   ]
  },
  {
   "cell_type": "code",
   "execution_count": 91,
   "metadata": {},
   "outputs": [
    {
     "name": "stdout",
     "output_type": "stream",
     "text": [
      "Estimated median value of medv (μˆmed): 21.20\n"
     ]
    }
   ],
   "source": [
    "#(e) Based on this data set, provide an estimate, μˆmed, for the median value of medv in the population.\n",
    "median_medv = Boston['medv'].median()\n",
    "\n",
    "print(f\"Estimated median value of medv (μˆmed): {median_medv:.2f}\")"
   ]
  },
  {
   "cell_type": "code",
   "execution_count": 92,
   "metadata": {},
   "outputs": [
    {
     "name": "stdout",
     "output_type": "stream",
     "text": [
      "Estimated standard error of μˆmed using bootstrap: 0.37\n"
     ]
    }
   ],
   "source": [
    "#(f) Wenowwouldliketoestimatethestandarderrorofμˆmed.Unfor- tunately, there is no simple formula for computing \n",
    "# the standard error of the median. Instead, estimate the standard error of the median using the bootstrap. \n",
    "# Comment on your findings.\n",
    "bootstrap_standard_error_med = np.std(bootstrap_medians)\n",
    "\n",
    "print(f\"Estimated standard error of μˆmed using bootstrap: {bootstrap_standard_error_med:.2f}\")"
   ]
  },
  {
   "cell_type": "markdown",
   "metadata": {},
   "source": [
    "A standard error of 0.40 suggests that the median value is relatively stable, which means that the estimate is likely to be a good representation of the true population median."
   ]
  },
  {
   "cell_type": "markdown",
   "metadata": {},
   "source": [
    "Chapter 6 Exercises 8 (except part (f)) and 11 (except PCR)\n",
    "\n",
    "8. In this exercise, we will generate simulated data, and will then use this data to perform forward and backward stepwise selection."
   ]
  },
  {
   "cell_type": "code",
   "execution_count": 93,
   "metadata": {},
   "outputs": [],
   "source": [
    "#(a) Create a random number generator and use its normal() method to generate a predictor X of length n = 100,\n",
    "#as well as a noise vector ε of length n = 100.\n",
    "np.random.seed(42)\n",
    "\n",
    "n = 100\n",
    "\n",
    "X = np.random.normal(loc=0, scale=1, size=n)\n",
    "\n",
    "epsilon = np.random.normal(loc=0, scale=1, size=n)\n"
   ]
  },
  {
   "cell_type": "code",
   "execution_count": 94,
   "metadata": {},
   "outputs": [],
   "source": [
    "#(b) Generate a response vector Y of length n = 100 according to the model\n",
    "#Y =β0 +β1X+β2X2 +β3X3 +ε, where β0, β1, β2, and β3 are constants of your choice.\n",
    "beta_0 = 2.0   # Intercept\n",
    "beta_1 = 3.0   # Coefficient for X\n",
    "beta_2 = -1.5  # Coefficient for X^2\n",
    "beta_3 = 0.5   # Coefficient for X^3\n",
    "\n",
    "Y = beta_0 + beta_1 * X + beta_2 * X**2 + beta_3 * X**3 + epsilon\n"
   ]
  },
  {
   "cell_type": "code",
   "execution_count": 95,
   "metadata": {},
   "outputs": [
    {
     "name": "stdout",
     "output_type": "stream",
     "text": [
      "                            OLS Regression Results                            \n",
      "==============================================================================\n",
      "Dep. Variable:                      Y   R-squared:                       0.965\n",
      "Model:                            OLS   Adj. R-squared:                  0.961\n",
      "Method:                 Least Squares   F-statistic:                     245.2\n",
      "Date:                Sat, 16 Nov 2024   Prob (F-statistic):           2.95e-60\n",
      "Time:                        05:38:35   Log-Likelihood:                -129.32\n",
      "No. Observations:                 100   AIC:                             280.6\n",
      "Df Residuals:                      89   BIC:                             309.3\n",
      "Df Model:                          10                                         \n",
      "Covariance Type:            nonrobust                                         \n",
      "==============================================================================\n",
      "                 coef    std err          t      P>|t|      [0.025      0.975]\n",
      "------------------------------------------------------------------------------\n",
      "const          1.8694      0.196      9.543      0.000       1.480       2.259\n",
      "X              2.4471      0.670      3.650      0.000       1.115       3.779\n",
      "X^3            2.4152      2.666      0.906      0.367      -2.881       7.712\n",
      "X^2           -2.3594      1.475     -1.600      0.113      -5.290       0.572\n",
      "X^4            3.0148      2.462      1.224      0.224      -1.877       7.907\n",
      "X^5           -2.0902      3.194     -0.654      0.515      -8.437       4.256\n",
      "X^6           -2.4130      1.578     -1.529      0.130      -5.549       0.723\n",
      "X^7            0.8639      1.390      0.622      0.536      -1.898       3.626\n",
      "X^8            0.7335      0.509      1.441      0.153      -0.278       1.745\n",
      "X^9           -0.1181      0.195     -0.606      0.546      -0.505       0.269\n",
      "X^10          -0.0764      0.068     -1.125      0.264      -0.211       0.059\n",
      "==============================================================================\n",
      "Omnibus:                        0.107   Durbin-Watson:                   2.234\n",
      "Prob(Omnibus):                  0.948   Jarque-Bera (JB):                0.284\n",
      "Skew:                           0.005   Prob(JB):                        0.867\n",
      "Kurtosis:                       2.739   Cond. No.                     8.10e+04\n",
      "==============================================================================\n",
      "\n",
      "Notes:\n",
      "[1] Standard Errors assume that the covariance matrix of the errors is correctly specified.\n",
      "[2] The condition number is large, 8.1e+04. This might indicate that there are\n",
      "strong multicollinearity or other numerical problems.\n"
     ]
    }
   ],
   "source": [
    "#(c) Use forward stepwise selection in order to select a model containing the predictors X, X2, . . . , X10.\n",
    "#  What is the model obtained according to Cp? Report the coefficients of the model obtained.\n",
    "data = pd.DataFrame({'X': X, 'Y': Y})\n",
    "for degree in range(2, 11):\n",
    "    data[f'X^{degree}'] = data['X'] ** degree\n",
    "\n",
    "def forward_stepwise_selection(data, response):\n",
    "    remaining_predictors = list(data.columns)\n",
    "    remaining_predictors.remove(response)\n",
    "    selected_predictors = []\n",
    "    best_model = None\n",
    "    best_cp = float('inf')\n",
    "\n",
    "    while remaining_predictors:\n",
    "        cp_values = {}\n",
    "        for predictor in remaining_predictors:\n",
    "            model_predictors = selected_predictors + [predictor]\n",
    "            X_model = add_constant(data[model_predictors])\n",
    "            model = sm.OLS(data[response], X_model).fit()\n",
    "            n = X_model.shape[0]\n",
    "            p = model.df_model + 1 \n",
    "            mse = model.mse_resid\n",
    "            cp = (model.ssr / mse) - (n - 2 * p)\n",
    "            cp_values[predictor] = cp\n",
    "\n",
    "        best_predictor = min(cp_values, key=cp_values.get)\n",
    "        selected_predictors.append(best_predictor)\n",
    "        remaining_predictors.remove(best_predictor)\n",
    "\n",
    "        X_model = add_constant(data[selected_predictors])\n",
    "        best_model = sm.OLS(data[response], X_model).fit()\n",
    "\n",
    "        current_cp = cp_values[best_predictor]\n",
    "        if current_cp < best_cp:\n",
    "            best_cp = current_cp\n",
    "\n",
    "    return best_model\n",
    "\n",
    "final_model = forward_stepwise_selection(data, 'Y')\n",
    "\n",
    "print(final_model.summary())"
   ]
  },
  {
   "cell_type": "code",
   "execution_count": 96,
   "metadata": {},
   "outputs": [
    {
     "name": "stdout",
     "output_type": "stream",
     "text": [
      "                            OLS Regression Results                            \n",
      "==============================================================================\n",
      "Dep. Variable:                      Y   R-squared:                       0.000\n",
      "Model:                            OLS   Adj. R-squared:                  0.000\n",
      "Method:                 Least Squares   F-statistic:                       nan\n",
      "Date:                Sat, 16 Nov 2024   Prob (F-statistic):                nan\n",
      "Time:                        05:38:36   Log-Likelihood:                -296.91\n",
      "No. Observations:                 100   AIC:                             595.8\n",
      "Df Residuals:                      99   BIC:                             598.4\n",
      "Df Model:                           0                                         \n",
      "Covariance Type:            nonrobust                                         \n",
      "==============================================================================\n",
      "                 coef    std err          t      P>|t|      [0.025      0.975]\n",
      "------------------------------------------------------------------------------\n",
      "const          0.2774      0.474      0.586      0.559      -0.662       1.217\n",
      "==============================================================================\n",
      "Omnibus:                       67.383   Durbin-Watson:                   2.137\n",
      "Prob(Omnibus):                  0.000   Jarque-Bera (JB):              321.351\n",
      "Skew:                          -2.272   Prob(JB):                     1.66e-70\n",
      "Kurtosis:                      10.515   Cond. No.                         1.00\n",
      "==============================================================================\n",
      "\n",
      "Notes:\n",
      "[1] Standard Errors assume that the covariance matrix of the errors is correctly specified.\n"
     ]
    }
   ],
   "source": [
    "# #(d) Repeat (c), using backwards stepwise selection. How does your answer compare to the results in (c)?\n",
    "data = pd.DataFrame({'X': X, 'Y': Y})\n",
    "for degree in range(2, 11):\n",
    "    data[f'X^{degree}'] = data['X'] ** degree\n",
    "\n",
    "def backward_stepwise_selection(data, response):\n",
    "    predictors = list(data.columns)\n",
    "    predictors.remove(response)\n",
    "    selected_predictors = predictors.copy()  \n",
    "    best_model = sm.OLS(data[response], add_constant(data[selected_predictors])).fit()\n",
    "    best_cp = (best_model.ssr / best_model.mse_resid) - (data.shape[0] - 2 * (best_model.df_model + 1))\n",
    "\n",
    "    while selected_predictors:\n",
    "        cp_values = {}\n",
    "        for predictor in selected_predictors:\n",
    "            model_predictors = selected_predictors.copy()\n",
    "            model_predictors.remove(predictor)\n",
    "            X_model = add_constant(data[model_predictors])\n",
    "            model = sm.OLS(data[response], X_model).fit()\n",
    "            n = X_model.shape[0]\n",
    "            p = model.df_model + 1 \n",
    "            mse = model.mse_resid\n",
    "            cp = (model.ssr / mse) - (n - 2 * p)\n",
    "            cp_values[predictor] = cp\n",
    "\n",
    "        worst_predictor = max(cp_values, key=cp_values.get)\n",
    "\n",
    "        if cp_values[worst_predictor] < best_cp:\n",
    "            selected_predictors.remove(worst_predictor)\n",
    "            best_model = sm.OLS(data[response], add_constant(data[selected_predictors])).fit()\n",
    "            best_cp = cp_values[worst_predictor] \n",
    "        else:\n",
    "            break\n",
    "\n",
    "    return best_model\n",
    "\n",
    "final_model_backward = backward_stepwise_selection(data, 'Y')\n",
    "\n",
    "print(final_model_backward.summary())"
   ]
  },
  {
   "cell_type": "markdown",
   "metadata": {},
   "source": [
    "The forward stepwise selection successfully identified significant predictors, leading to a well-fitted model with high explanatory power.\n",
    "The backward stepwise selection resulted in no predictors being retained, indicating possible issues such as high multicollinearity, a small sample size relative to the number of predictors, or strict significance thresholds."
   ]
  },
  {
   "cell_type": "code",
   "execution_count": 97,
   "metadata": {},
   "outputs": [
    {
     "name": "stdout",
     "output_type": "stream",
     "text": [
      "Optimal lambda: 0.0050\n"
     ]
    },
    {
     "name": "stderr",
     "output_type": "stream",
     "text": [
      "/home/codespace/.local/lib/python3.12/site-packages/sklearn/linear_model/_coordinate_descent.py:683: ConvergenceWarning: Objective did not converge. You might want to increase the number of iterations. Duality gap: 0.5440826353607662, tolerance: 0.19808844090836658\n",
      "  model = cd_fast.enet_coordinate_descent_gram(\n",
      "/home/codespace/.local/lib/python3.12/site-packages/sklearn/linear_model/_coordinate_descent.py:683: ConvergenceWarning: Objective did not converge. You might want to increase the number of iterations. Duality gap: 1.646650304170592, tolerance: 0.19808844090836658\n",
      "  model = cd_fast.enet_coordinate_descent_gram(\n",
      "/home/codespace/.local/lib/python3.12/site-packages/sklearn/linear_model/_coordinate_descent.py:683: ConvergenceWarning: Objective did not converge. You might want to increase the number of iterations. Duality gap: 2.8229499880039057, tolerance: 0.19808844090836658\n",
      "  model = cd_fast.enet_coordinate_descent_gram(\n",
      "/home/codespace/.local/lib/python3.12/site-packages/sklearn/linear_model/_coordinate_descent.py:683: ConvergenceWarning: Objective did not converge. You might want to increase the number of iterations. Duality gap: 4.061727046732024, tolerance: 0.19808844090836658\n",
      "  model = cd_fast.enet_coordinate_descent_gram(\n",
      "/home/codespace/.local/lib/python3.12/site-packages/sklearn/linear_model/_coordinate_descent.py:683: ConvergenceWarning: Objective did not converge. You might want to increase the number of iterations. Duality gap: 5.362751168190101, tolerance: 0.19808844090836658\n",
      "  model = cd_fast.enet_coordinate_descent_gram(\n",
      "/home/codespace/.local/lib/python3.12/site-packages/sklearn/linear_model/_coordinate_descent.py:683: ConvergenceWarning: Objective did not converge. You might want to increase the number of iterations. Duality gap: 6.6718134839116345, tolerance: 0.19808844090836658\n",
      "  model = cd_fast.enet_coordinate_descent_gram(\n",
      "/home/codespace/.local/lib/python3.12/site-packages/sklearn/linear_model/_coordinate_descent.py:683: ConvergenceWarning: Objective did not converge. You might want to increase the number of iterations. Duality gap: 7.957844892823211, tolerance: 0.19808844090836658\n",
      "  model = cd_fast.enet_coordinate_descent_gram(\n",
      "/home/codespace/.local/lib/python3.12/site-packages/sklearn/linear_model/_coordinate_descent.py:683: ConvergenceWarning: Objective did not converge. You might want to increase the number of iterations. Duality gap: 9.202965163040737, tolerance: 0.19808844090836658\n",
      "  model = cd_fast.enet_coordinate_descent_gram(\n",
      "/home/codespace/.local/lib/python3.12/site-packages/sklearn/linear_model/_coordinate_descent.py:683: ConvergenceWarning: Objective did not converge. You might want to increase the number of iterations. Duality gap: 10.435697318003292, tolerance: 0.19808844090836658\n",
      "  model = cd_fast.enet_coordinate_descent_gram(\n",
      "/home/codespace/.local/lib/python3.12/site-packages/sklearn/linear_model/_coordinate_descent.py:683: ConvergenceWarning: Objective did not converge. You might want to increase the number of iterations. Duality gap: 12.35340110737301, tolerance: 0.19808844090836658\n",
      "  model = cd_fast.enet_coordinate_descent_gram(\n",
      "/home/codespace/.local/lib/python3.12/site-packages/sklearn/linear_model/_coordinate_descent.py:683: ConvergenceWarning: Objective did not converge. You might want to increase the number of iterations. Duality gap: 14.102407582652475, tolerance: 0.19808844090836658\n",
      "  model = cd_fast.enet_coordinate_descent_gram(\n",
      "/home/codespace/.local/lib/python3.12/site-packages/sklearn/linear_model/_coordinate_descent.py:683: ConvergenceWarning: Objective did not converge. You might want to increase the number of iterations. Duality gap: 15.665744366378743, tolerance: 0.19808844090836658\n",
      "  model = cd_fast.enet_coordinate_descent_gram(\n",
      "/home/codespace/.local/lib/python3.12/site-packages/sklearn/linear_model/_coordinate_descent.py:683: ConvergenceWarning: Objective did not converge. You might want to increase the number of iterations. Duality gap: 17.05984476764404, tolerance: 0.19808844090836658\n",
      "  model = cd_fast.enet_coordinate_descent_gram(\n",
      "/home/codespace/.local/lib/python3.12/site-packages/sklearn/linear_model/_coordinate_descent.py:683: ConvergenceWarning: Objective did not converge. You might want to increase the number of iterations. Duality gap: 0.2199554736380378, tolerance: 0.20148782438320986\n",
      "  model = cd_fast.enet_coordinate_descent_gram(\n",
      "/home/codespace/.local/lib/python3.12/site-packages/sklearn/linear_model/_coordinate_descent.py:683: ConvergenceWarning: Objective did not converge. You might want to increase the number of iterations. Duality gap: 0.21506353497515818, tolerance: 0.20148782438320986\n",
      "  model = cd_fast.enet_coordinate_descent_gram(\n",
      "/home/codespace/.local/lib/python3.12/site-packages/sklearn/linear_model/_coordinate_descent.py:683: ConvergenceWarning: Objective did not converge. You might want to increase the number of iterations. Duality gap: 0.20634520381831578, tolerance: 0.20148782438320986\n",
      "  model = cd_fast.enet_coordinate_descent_gram(\n",
      "/home/codespace/.local/lib/python3.12/site-packages/sklearn/linear_model/_coordinate_descent.py:683: ConvergenceWarning: Objective did not converge. You might want to increase the number of iterations. Duality gap: 0.7033823657354716, tolerance: 0.20148782438320986\n",
      "  model = cd_fast.enet_coordinate_descent_gram(\n",
      "/home/codespace/.local/lib/python3.12/site-packages/sklearn/linear_model/_coordinate_descent.py:683: ConvergenceWarning: Objective did not converge. You might want to increase the number of iterations. Duality gap: 1.7884614377609154, tolerance: 0.20148782438320986\n",
      "  model = cd_fast.enet_coordinate_descent_gram(\n",
      "/home/codespace/.local/lib/python3.12/site-packages/sklearn/linear_model/_coordinate_descent.py:683: ConvergenceWarning: Objective did not converge. You might want to increase the number of iterations. Duality gap: 2.9581371206036238, tolerance: 0.20148782438320986\n",
      "  model = cd_fast.enet_coordinate_descent_gram(\n",
      "/home/codespace/.local/lib/python3.12/site-packages/sklearn/linear_model/_coordinate_descent.py:683: ConvergenceWarning: Objective did not converge. You might want to increase the number of iterations. Duality gap: 4.238867756934496, tolerance: 0.20148782438320986\n",
      "  model = cd_fast.enet_coordinate_descent_gram(\n",
      "/home/codespace/.local/lib/python3.12/site-packages/sklearn/linear_model/_coordinate_descent.py:683: ConvergenceWarning: Objective did not converge. You might want to increase the number of iterations. Duality gap: 5.568885127688098, tolerance: 0.20148782438320986\n",
      "  model = cd_fast.enet_coordinate_descent_gram(\n",
      "/home/codespace/.local/lib/python3.12/site-packages/sklearn/linear_model/_coordinate_descent.py:683: ConvergenceWarning: Objective did not converge. You might want to increase the number of iterations. Duality gap: 6.907618044588787, tolerance: 0.20148782438320986\n",
      "  model = cd_fast.enet_coordinate_descent_gram(\n",
      "/home/codespace/.local/lib/python3.12/site-packages/sklearn/linear_model/_coordinate_descent.py:683: ConvergenceWarning: Objective did not converge. You might want to increase the number of iterations. Duality gap: 8.569733287535769, tolerance: 0.20148782438320986\n",
      "  model = cd_fast.enet_coordinate_descent_gram(\n",
      "/home/codespace/.local/lib/python3.12/site-packages/sklearn/linear_model/_coordinate_descent.py:683: ConvergenceWarning: Objective did not converge. You might want to increase the number of iterations. Duality gap: 10.757063369687714, tolerance: 0.20148782438320986\n",
      "  model = cd_fast.enet_coordinate_descent_gram(\n",
      "/home/codespace/.local/lib/python3.12/site-packages/sklearn/linear_model/_coordinate_descent.py:683: ConvergenceWarning: Objective did not converge. You might want to increase the number of iterations. Duality gap: 12.831804972455835, tolerance: 0.20148782438320986\n",
      "  model = cd_fast.enet_coordinate_descent_gram(\n",
      "/home/codespace/.local/lib/python3.12/site-packages/sklearn/linear_model/_coordinate_descent.py:683: ConvergenceWarning: Objective did not converge. You might want to increase the number of iterations. Duality gap: 14.698817339166897, tolerance: 0.20148782438320986\n",
      "  model = cd_fast.enet_coordinate_descent_gram(\n",
      "/home/codespace/.local/lib/python3.12/site-packages/sklearn/linear_model/_coordinate_descent.py:683: ConvergenceWarning: Objective did not converge. You might want to increase the number of iterations. Duality gap: 16.36333134400393, tolerance: 0.20148782438320986\n",
      "  model = cd_fast.enet_coordinate_descent_gram(\n",
      "/home/codespace/.local/lib/python3.12/site-packages/sklearn/linear_model/_coordinate_descent.py:683: ConvergenceWarning: Objective did not converge. You might want to increase the number of iterations. Duality gap: 0.2357275681815736, tolerance: 0.18073583403990162\n",
      "  model = cd_fast.enet_coordinate_descent_gram(\n",
      "/home/codespace/.local/lib/python3.12/site-packages/sklearn/linear_model/_coordinate_descent.py:683: ConvergenceWarning: Objective did not converge. You might want to increase the number of iterations. Duality gap: 0.2138526547626327, tolerance: 0.18073583403990162\n",
      "  model = cd_fast.enet_coordinate_descent_gram(\n",
      "/home/codespace/.local/lib/python3.12/site-packages/sklearn/linear_model/_coordinate_descent.py:683: ConvergenceWarning: Objective did not converge. You might want to increase the number of iterations. Duality gap: 0.20259226253945428, tolerance: 0.18073583403990162\n",
      "  model = cd_fast.enet_coordinate_descent_gram(\n",
      "/home/codespace/.local/lib/python3.12/site-packages/sklearn/linear_model/_coordinate_descent.py:683: ConvergenceWarning: Objective did not converge. You might want to increase the number of iterations. Duality gap: 0.19396904115619407, tolerance: 0.18073583403990162\n",
      "  model = cd_fast.enet_coordinate_descent_gram(\n",
      "/home/codespace/.local/lib/python3.12/site-packages/sklearn/linear_model/_coordinate_descent.py:683: ConvergenceWarning: Objective did not converge. You might want to increase the number of iterations. Duality gap: 0.42295160155259737, tolerance: 0.18073583403990162\n",
      "  model = cd_fast.enet_coordinate_descent_gram(\n",
      "/home/codespace/.local/lib/python3.12/site-packages/sklearn/linear_model/_coordinate_descent.py:683: ConvergenceWarning: Objective did not converge. You might want to increase the number of iterations. Duality gap: 1.5667945351846981, tolerance: 0.18073583403990162\n",
      "  model = cd_fast.enet_coordinate_descent_gram(\n",
      "/home/codespace/.local/lib/python3.12/site-packages/sklearn/linear_model/_coordinate_descent.py:683: ConvergenceWarning: Objective did not converge. You might want to increase the number of iterations. Duality gap: 2.8925147286738238, tolerance: 0.18073583403990162\n",
      "  model = cd_fast.enet_coordinate_descent_gram(\n",
      "/home/codespace/.local/lib/python3.12/site-packages/sklearn/linear_model/_coordinate_descent.py:683: ConvergenceWarning: Objective did not converge. You might want to increase the number of iterations. Duality gap: 4.351314690317892, tolerance: 0.18073583403990162\n",
      "  model = cd_fast.enet_coordinate_descent_gram(\n",
      "/home/codespace/.local/lib/python3.12/site-packages/sklearn/linear_model/_coordinate_descent.py:683: ConvergenceWarning: Objective did not converge. You might want to increase the number of iterations. Duality gap: 5.872542751054851, tolerance: 0.18073583403990162\n",
      "  model = cd_fast.enet_coordinate_descent_gram(\n",
      "/home/codespace/.local/lib/python3.12/site-packages/sklearn/linear_model/_coordinate_descent.py:683: ConvergenceWarning: Objective did not converge. You might want to increase the number of iterations. Duality gap: 7.57837918357373, tolerance: 0.18073583403990162\n",
      "  model = cd_fast.enet_coordinate_descent_gram(\n",
      "/home/codespace/.local/lib/python3.12/site-packages/sklearn/linear_model/_coordinate_descent.py:683: ConvergenceWarning: Objective did not converge. You might want to increase the number of iterations. Duality gap: 9.948594661728265, tolerance: 0.18073583403990162\n",
      "  model = cd_fast.enet_coordinate_descent_gram(\n",
      "/home/codespace/.local/lib/python3.12/site-packages/sklearn/linear_model/_coordinate_descent.py:683: ConvergenceWarning: Objective did not converge. You might want to increase the number of iterations. Duality gap: 11.934703501250993, tolerance: 0.18073583403990162\n",
      "  model = cd_fast.enet_coordinate_descent_gram(\n",
      "/home/codespace/.local/lib/python3.12/site-packages/sklearn/linear_model/_coordinate_descent.py:683: ConvergenceWarning: Objective did not converge. You might want to increase the number of iterations. Duality gap: 13.58766319128911, tolerance: 0.18073583403990162\n",
      "  model = cd_fast.enet_coordinate_descent_gram(\n",
      "/home/codespace/.local/lib/python3.12/site-packages/sklearn/linear_model/_coordinate_descent.py:683: ConvergenceWarning: Objective did not converge. You might want to increase the number of iterations. Duality gap: 15.082747029302645, tolerance: 0.18073583403990162\n",
      "  model = cd_fast.enet_coordinate_descent_gram(\n",
      "/home/codespace/.local/lib/python3.12/site-packages/sklearn/linear_model/_coordinate_descent.py:683: ConvergenceWarning: Objective did not converge. You might want to increase the number of iterations. Duality gap: 16.427852139433128, tolerance: 0.18073583403990162\n",
      "  model = cd_fast.enet_coordinate_descent_gram(\n",
      "/home/codespace/.local/lib/python3.12/site-packages/sklearn/linear_model/_coordinate_descent.py:683: ConvergenceWarning: Objective did not converge. You might want to increase the number of iterations. Duality gap: 18.557142651838078, tolerance: 0.18073583403990162\n",
      "  model = cd_fast.enet_coordinate_descent_gram(\n",
      "/home/codespace/.local/lib/python3.12/site-packages/sklearn/linear_model/_coordinate_descent.py:683: ConvergenceWarning: Objective did not converge. You might want to increase the number of iterations. Duality gap: 19.31452867339006, tolerance: 0.18073583403990162\n",
      "  model = cd_fast.enet_coordinate_descent_gram(\n",
      "/home/codespace/.local/lib/python3.12/site-packages/sklearn/linear_model/_coordinate_descent.py:683: ConvergenceWarning: Objective did not converge. You might want to increase the number of iterations. Duality gap: 0.7164047558412534, tolerance: 0.18434165747681783\n",
      "  model = cd_fast.enet_coordinate_descent_gram(\n",
      "/home/codespace/.local/lib/python3.12/site-packages/sklearn/linear_model/_coordinate_descent.py:683: ConvergenceWarning: Objective did not converge. You might want to increase the number of iterations. Duality gap: 1.7061849544075187, tolerance: 0.18434165747681783\n",
      "  model = cd_fast.enet_coordinate_descent_gram(\n",
      "/home/codespace/.local/lib/python3.12/site-packages/sklearn/linear_model/_coordinate_descent.py:683: ConvergenceWarning: Objective did not converge. You might want to increase the number of iterations. Duality gap: 2.7547035056944438, tolerance: 0.18434165747681783\n",
      "  model = cd_fast.enet_coordinate_descent_gram(\n",
      "/home/codespace/.local/lib/python3.12/site-packages/sklearn/linear_model/_coordinate_descent.py:683: ConvergenceWarning: Objective did not converge. You might want to increase the number of iterations. Duality gap: 3.8841481285306116, tolerance: 0.18434165747681783\n",
      "  model = cd_fast.enet_coordinate_descent_gram(\n",
      "/home/codespace/.local/lib/python3.12/site-packages/sklearn/linear_model/_coordinate_descent.py:683: ConvergenceWarning: Objective did not converge. You might want to increase the number of iterations. Duality gap: 5.039498298179296, tolerance: 0.18434165747681783\n",
      "  model = cd_fast.enet_coordinate_descent_gram(\n",
      "/home/codespace/.local/lib/python3.12/site-packages/sklearn/linear_model/_coordinate_descent.py:683: ConvergenceWarning: Objective did not converge. You might want to increase the number of iterations. Duality gap: 6.187532664917356, tolerance: 0.18434165747681783\n",
      "  model = cd_fast.enet_coordinate_descent_gram(\n",
      "/home/codespace/.local/lib/python3.12/site-packages/sklearn/linear_model/_coordinate_descent.py:683: ConvergenceWarning: Objective did not converge. You might want to increase the number of iterations. Duality gap: 7.707424580865819, tolerance: 0.18434165747681783\n",
      "  model = cd_fast.enet_coordinate_descent_gram(\n",
      "/home/codespace/.local/lib/python3.12/site-packages/sklearn/linear_model/_coordinate_descent.py:683: ConvergenceWarning: Objective did not converge. You might want to increase the number of iterations. Duality gap: 9.36718666454692, tolerance: 0.18434165747681783\n",
      "  model = cd_fast.enet_coordinate_descent_gram(\n",
      "/home/codespace/.local/lib/python3.12/site-packages/sklearn/linear_model/_coordinate_descent.py:683: ConvergenceWarning: Objective did not converge. You might want to increase the number of iterations. Duality gap: 10.605367236675121, tolerance: 0.18434165747681783\n",
      "  model = cd_fast.enet_coordinate_descent_gram(\n",
      "/home/codespace/.local/lib/python3.12/site-packages/sklearn/linear_model/_coordinate_descent.py:683: ConvergenceWarning: Objective did not converge. You might want to increase the number of iterations. Duality gap: 11.723652723919805, tolerance: 0.18434165747681783\n",
      "  model = cd_fast.enet_coordinate_descent_gram(\n",
      "/home/codespace/.local/lib/python3.12/site-packages/sklearn/linear_model/_coordinate_descent.py:683: ConvergenceWarning: Objective did not converge. You might want to increase the number of iterations. Duality gap: 12.729693046403419, tolerance: 0.18434165747681783\n",
      "  model = cd_fast.enet_coordinate_descent_gram(\n",
      "/home/codespace/.local/lib/python3.12/site-packages/sklearn/linear_model/_coordinate_descent.py:683: ConvergenceWarning: Objective did not converge. You might want to increase the number of iterations. Duality gap: 13.632538848635612, tolerance: 0.18434165747681783\n",
      "  model = cd_fast.enet_coordinate_descent_gram(\n",
      "/home/codespace/.local/lib/python3.12/site-packages/sklearn/linear_model/_coordinate_descent.py:683: ConvergenceWarning: Objective did not converge. You might want to increase the number of iterations. Duality gap: 14.56991380133475, tolerance: 0.18434165747681783\n",
      "  model = cd_fast.enet_coordinate_descent_gram(\n",
      "/home/codespace/.local/lib/python3.12/site-packages/sklearn/linear_model/_coordinate_descent.py:683: ConvergenceWarning: Objective did not converge. You might want to increase the number of iterations. Duality gap: 0.26405640429685207, tolerance: 0.19322331957468664\n",
      "  model = cd_fast.enet_coordinate_descent_gram(\n",
      "/home/codespace/.local/lib/python3.12/site-packages/sklearn/linear_model/_coordinate_descent.py:683: ConvergenceWarning: Objective did not converge. You might want to increase the number of iterations. Duality gap: 0.2696947688690159, tolerance: 0.19322331957468664\n",
      "  model = cd_fast.enet_coordinate_descent_gram(\n",
      "/home/codespace/.local/lib/python3.12/site-packages/sklearn/linear_model/_coordinate_descent.py:683: ConvergenceWarning: Objective did not converge. You might want to increase the number of iterations. Duality gap: 0.26155060978710765, tolerance: 0.19322331957468664\n",
      "  model = cd_fast.enet_coordinate_descent_gram(\n",
      "/home/codespace/.local/lib/python3.12/site-packages/sklearn/linear_model/_coordinate_descent.py:683: ConvergenceWarning: Objective did not converge. You might want to increase the number of iterations. Duality gap: 0.2512771499729496, tolerance: 0.19322331957468664\n",
      "  model = cd_fast.enet_coordinate_descent_gram(\n",
      "/home/codespace/.local/lib/python3.12/site-packages/sklearn/linear_model/_coordinate_descent.py:683: ConvergenceWarning: Objective did not converge. You might want to increase the number of iterations. Duality gap: 0.2625653371173371, tolerance: 0.19322331957468664\n",
      "  model = cd_fast.enet_coordinate_descent_gram(\n",
      "/home/codespace/.local/lib/python3.12/site-packages/sklearn/linear_model/_coordinate_descent.py:683: ConvergenceWarning: Objective did not converge. You might want to increase the number of iterations. Duality gap: 0.6315292386709928, tolerance: 0.19322331957468664\n",
      "  model = cd_fast.enet_coordinate_descent_gram(\n",
      "/home/codespace/.local/lib/python3.12/site-packages/sklearn/linear_model/_coordinate_descent.py:683: ConvergenceWarning: Objective did not converge. You might want to increase the number of iterations. Duality gap: 1.139469678329931, tolerance: 0.19322331957468664\n",
      "  model = cd_fast.enet_coordinate_descent_gram(\n",
      "/home/codespace/.local/lib/python3.12/site-packages/sklearn/linear_model/_coordinate_descent.py:683: ConvergenceWarning: Objective did not converge. You might want to increase the number of iterations. Duality gap: 1.8012935511555241, tolerance: 0.19322331957468664\n",
      "  model = cd_fast.enet_coordinate_descent_gram(\n",
      "/home/codespace/.local/lib/python3.12/site-packages/sklearn/linear_model/_coordinate_descent.py:683: ConvergenceWarning: Objective did not converge. You might want to increase the number of iterations. Duality gap: 2.6226500394065084, tolerance: 0.19322331957468664\n",
      "  model = cd_fast.enet_coordinate_descent_gram(\n",
      "/home/codespace/.local/lib/python3.12/site-packages/sklearn/linear_model/_coordinate_descent.py:683: ConvergenceWarning: Objective did not converge. You might want to increase the number of iterations. Duality gap: 3.4926970697263826, tolerance: 0.19322331957468664\n",
      "  model = cd_fast.enet_coordinate_descent_gram(\n",
      "/home/codespace/.local/lib/python3.12/site-packages/sklearn/linear_model/_coordinate_descent.py:683: ConvergenceWarning: Objective did not converge. You might want to increase the number of iterations. Duality gap: 4.414587197380882, tolerance: 0.19322331957468664\n",
      "  model = cd_fast.enet_coordinate_descent_gram(\n",
      "/home/codespace/.local/lib/python3.12/site-packages/sklearn/linear_model/_coordinate_descent.py:683: ConvergenceWarning: Objective did not converge. You might want to increase the number of iterations. Duality gap: 5.4540612681897045, tolerance: 0.19322331957468664\n",
      "  model = cd_fast.enet_coordinate_descent_gram(\n",
      "/home/codespace/.local/lib/python3.12/site-packages/sklearn/linear_model/_coordinate_descent.py:683: ConvergenceWarning: Objective did not converge. You might want to increase the number of iterations. Duality gap: 6.60516924231009, tolerance: 0.19322331957468664\n",
      "  model = cd_fast.enet_coordinate_descent_gram(\n",
      "/home/codespace/.local/lib/python3.12/site-packages/sklearn/linear_model/_coordinate_descent.py:683: ConvergenceWarning: Objective did not converge. You might want to increase the number of iterations. Duality gap: 7.851317881999513, tolerance: 0.19322331957468664\n",
      "  model = cd_fast.enet_coordinate_descent_gram(\n",
      "/home/codespace/.local/lib/python3.12/site-packages/sklearn/linear_model/_coordinate_descent.py:683: ConvergenceWarning: Objective did not converge. You might want to increase the number of iterations. Duality gap: 9.169533697818519, tolerance: 0.19322331957468664\n",
      "  model = cd_fast.enet_coordinate_descent_gram(\n",
      "/home/codespace/.local/lib/python3.12/site-packages/sklearn/linear_model/_coordinate_descent.py:683: ConvergenceWarning: Objective did not converge. You might want to increase the number of iterations. Duality gap: 10.53298703624801, tolerance: 0.19322331957468664\n",
      "  model = cd_fast.enet_coordinate_descent_gram(\n",
      "/home/codespace/.local/lib/python3.12/site-packages/sklearn/linear_model/_coordinate_descent.py:683: ConvergenceWarning: Objective did not converge. You might want to increase the number of iterations. Duality gap: 11.913297642481776, tolerance: 0.19322331957468664\n",
      "  model = cd_fast.enet_coordinate_descent_gram(\n",
      "/home/codespace/.local/lib/python3.12/site-packages/sklearn/linear_model/_coordinate_descent.py:683: ConvergenceWarning: Objective did not converge. You might want to increase the number of iterations. Duality gap: 13.28757471515583, tolerance: 0.19322331957468664\n",
      "  model = cd_fast.enet_coordinate_descent_gram(\n",
      "/home/codespace/.local/lib/python3.12/site-packages/sklearn/linear_model/_coordinate_descent.py:683: ConvergenceWarning: Objective did not converge. You might want to increase the number of iterations. Duality gap: 0.32483233793942645, tolerance: 0.19659313169074139\n",
      "  model = cd_fast.enet_coordinate_descent_gram(\n",
      "/home/codespace/.local/lib/python3.12/site-packages/sklearn/linear_model/_coordinate_descent.py:683: ConvergenceWarning: Objective did not converge. You might want to increase the number of iterations. Duality gap: 0.44349799382050037, tolerance: 0.19659313169074139\n",
      "  model = cd_fast.enet_coordinate_descent_gram(\n",
      "/home/codespace/.local/lib/python3.12/site-packages/sklearn/linear_model/_coordinate_descent.py:683: ConvergenceWarning: Objective did not converge. You might want to increase the number of iterations. Duality gap: 1.4076126328665524, tolerance: 0.19659313169074139\n",
      "  model = cd_fast.enet_coordinate_descent_gram(\n",
      "/home/codespace/.local/lib/python3.12/site-packages/sklearn/linear_model/_coordinate_descent.py:683: ConvergenceWarning: Objective did not converge. You might want to increase the number of iterations. Duality gap: 2.4764256451727533, tolerance: 0.19659313169074139\n",
      "  model = cd_fast.enet_coordinate_descent_gram(\n",
      "/home/codespace/.local/lib/python3.12/site-packages/sklearn/linear_model/_coordinate_descent.py:683: ConvergenceWarning: Objective did not converge. You might want to increase the number of iterations. Duality gap: 3.657201112527133, tolerance: 0.19659313169074139\n",
      "  model = cd_fast.enet_coordinate_descent_gram(\n",
      "/home/codespace/.local/lib/python3.12/site-packages/sklearn/linear_model/_coordinate_descent.py:683: ConvergenceWarning: Objective did not converge. You might want to increase the number of iterations. Duality gap: 4.891840364011642, tolerance: 0.19659313169074139\n",
      "  model = cd_fast.enet_coordinate_descent_gram(\n",
      "/home/codespace/.local/lib/python3.12/site-packages/sklearn/linear_model/_coordinate_descent.py:683: ConvergenceWarning: Objective did not converge. You might want to increase the number of iterations. Duality gap: 6.141249292984796, tolerance: 0.19659313169074139\n",
      "  model = cd_fast.enet_coordinate_descent_gram(\n",
      "/home/codespace/.local/lib/python3.12/site-packages/sklearn/linear_model/_coordinate_descent.py:683: ConvergenceWarning: Objective did not converge. You might want to increase the number of iterations. Duality gap: 7.648449483212353, tolerance: 0.19659313169074139\n",
      "  model = cd_fast.enet_coordinate_descent_gram(\n",
      "/home/codespace/.local/lib/python3.12/site-packages/sklearn/linear_model/_coordinate_descent.py:683: ConvergenceWarning: Objective did not converge. You might want to increase the number of iterations. Duality gap: 9.071137936751935, tolerance: 0.19659313169074139\n",
      "  model = cd_fast.enet_coordinate_descent_gram(\n",
      "/home/codespace/.local/lib/python3.12/site-packages/sklearn/linear_model/_coordinate_descent.py:683: ConvergenceWarning: Objective did not converge. You might want to increase the number of iterations. Duality gap: 10.800232148700907, tolerance: 0.19659313169074139\n",
      "  model = cd_fast.enet_coordinate_descent_gram(\n",
      "/home/codespace/.local/lib/python3.12/site-packages/sklearn/linear_model/_coordinate_descent.py:683: ConvergenceWarning: Objective did not converge. You might want to increase the number of iterations. Duality gap: 12.645409568533015, tolerance: 0.19659313169074139\n",
      "  model = cd_fast.enet_coordinate_descent_gram(\n",
      "/home/codespace/.local/lib/python3.12/site-packages/sklearn/linear_model/_coordinate_descent.py:683: ConvergenceWarning: Objective did not converge. You might want to increase the number of iterations. Duality gap: 14.292544184229921, tolerance: 0.19659313169074139\n",
      "  model = cd_fast.enet_coordinate_descent_gram(\n",
      "/home/codespace/.local/lib/python3.12/site-packages/sklearn/linear_model/_coordinate_descent.py:683: ConvergenceWarning: Objective did not converge. You might want to increase the number of iterations. Duality gap: 0.749994498565961, tolerance: 0.18689086161350055\n",
      "  model = cd_fast.enet_coordinate_descent_gram(\n",
      "/home/codespace/.local/lib/python3.12/site-packages/sklearn/linear_model/_coordinate_descent.py:683: ConvergenceWarning: Objective did not converge. You might want to increase the number of iterations. Duality gap: 1.8825871765225202, tolerance: 0.18689086161350055\n",
      "  model = cd_fast.enet_coordinate_descent_gram(\n",
      "/home/codespace/.local/lib/python3.12/site-packages/sklearn/linear_model/_coordinate_descent.py:683: ConvergenceWarning: Objective did not converge. You might want to increase the number of iterations. Duality gap: 3.1695674315190203, tolerance: 0.18689086161350055\n",
      "  model = cd_fast.enet_coordinate_descent_gram(\n",
      "/home/codespace/.local/lib/python3.12/site-packages/sklearn/linear_model/_coordinate_descent.py:683: ConvergenceWarning: Objective did not converge. You might want to increase the number of iterations. Duality gap: 4.602295644790686, tolerance: 0.18689086161350055\n",
      "  model = cd_fast.enet_coordinate_descent_gram(\n",
      "/home/codespace/.local/lib/python3.12/site-packages/sklearn/linear_model/_coordinate_descent.py:683: ConvergenceWarning: Objective did not converge. You might want to increase the number of iterations. Duality gap: 7.62924891939867, tolerance: 0.18689086161350055\n",
      "  model = cd_fast.enet_coordinate_descent_gram(\n",
      "/home/codespace/.local/lib/python3.12/site-packages/sklearn/linear_model/_coordinate_descent.py:683: ConvergenceWarning: Objective did not converge. You might want to increase the number of iterations. Duality gap: 9.083215274329731, tolerance: 0.18689086161350055\n",
      "  model = cd_fast.enet_coordinate_descent_gram(\n",
      "/home/codespace/.local/lib/python3.12/site-packages/sklearn/linear_model/_coordinate_descent.py:683: ConvergenceWarning: Objective did not converge. You might want to increase the number of iterations. Duality gap: 10.456549019262866, tolerance: 0.18689086161350055\n",
      "  model = cd_fast.enet_coordinate_descent_gram(\n",
      "/home/codespace/.local/lib/python3.12/site-packages/sklearn/linear_model/_coordinate_descent.py:683: ConvergenceWarning: Objective did not converge. You might want to increase the number of iterations. Duality gap: 12.259724430391746, tolerance: 0.18689086161350055\n",
      "  model = cd_fast.enet_coordinate_descent_gram(\n",
      "/home/codespace/.local/lib/python3.12/site-packages/sklearn/linear_model/_coordinate_descent.py:683: ConvergenceWarning: Objective did not converge. You might want to increase the number of iterations. Duality gap: 13.185082170871166, tolerance: 0.18689086161350055\n",
      "  model = cd_fast.enet_coordinate_descent_gram(\n",
      "/home/codespace/.local/lib/python3.12/site-packages/sklearn/linear_model/_coordinate_descent.py:683: ConvergenceWarning: Objective did not converge. You might want to increase the number of iterations. Duality gap: 14.126721977928227, tolerance: 0.18689086161350055\n",
      "  model = cd_fast.enet_coordinate_descent_gram(\n",
      "/home/codespace/.local/lib/python3.12/site-packages/sklearn/linear_model/_coordinate_descent.py:683: ConvergenceWarning: Objective did not converge. You might want to increase the number of iterations. Duality gap: 15.058107007795524, tolerance: 0.18689086161350055\n",
      "  model = cd_fast.enet_coordinate_descent_gram(\n",
      "/home/codespace/.local/lib/python3.12/site-packages/sklearn/linear_model/_coordinate_descent.py:683: ConvergenceWarning: Objective did not converge. You might want to increase the number of iterations. Duality gap: 0.5122930194259112, tolerance: 0.1770721419972765\n",
      "  model = cd_fast.enet_coordinate_descent_gram(\n",
      "/home/codespace/.local/lib/python3.12/site-packages/sklearn/linear_model/_coordinate_descent.py:683: ConvergenceWarning: Objective did not converge. You might want to increase the number of iterations. Duality gap: 1.5868825805060283, tolerance: 0.1770721419972765\n",
      "  model = cd_fast.enet_coordinate_descent_gram(\n",
      "/home/codespace/.local/lib/python3.12/site-packages/sklearn/linear_model/_coordinate_descent.py:683: ConvergenceWarning: Objective did not converge. You might want to increase the number of iterations. Duality gap: 2.7564065098894304, tolerance: 0.1770721419972765\n",
      "  model = cd_fast.enet_coordinate_descent_gram(\n",
      "/home/codespace/.local/lib/python3.12/site-packages/sklearn/linear_model/_coordinate_descent.py:683: ConvergenceWarning: Objective did not converge. You might want to increase the number of iterations. Duality gap: 3.9519387316705874, tolerance: 0.1770721419972765\n",
      "  model = cd_fast.enet_coordinate_descent_gram(\n",
      "/home/codespace/.local/lib/python3.12/site-packages/sklearn/linear_model/_coordinate_descent.py:683: ConvergenceWarning: Objective did not converge. You might want to increase the number of iterations. Duality gap: 5.172550468280406, tolerance: 0.1770721419972765\n",
      "  model = cd_fast.enet_coordinate_descent_gram(\n",
      "/home/codespace/.local/lib/python3.12/site-packages/sklearn/linear_model/_coordinate_descent.py:683: ConvergenceWarning: Objective did not converge. You might want to increase the number of iterations. Duality gap: 6.417409774498118, tolerance: 0.1770721419972765\n",
      "  model = cd_fast.enet_coordinate_descent_gram(\n",
      "/home/codespace/.local/lib/python3.12/site-packages/sklearn/linear_model/_coordinate_descent.py:683: ConvergenceWarning: Objective did not converge. You might want to increase the number of iterations. Duality gap: 7.643664021336505, tolerance: 0.1770721419972765\n",
      "  model = cd_fast.enet_coordinate_descent_gram(\n",
      "/home/codespace/.local/lib/python3.12/site-packages/sklearn/linear_model/_coordinate_descent.py:683: ConvergenceWarning: Objective did not converge. You might want to increase the number of iterations. Duality gap: 8.829985766851074, tolerance: 0.1770721419972765\n",
      "  model = cd_fast.enet_coordinate_descent_gram(\n",
      "/home/codespace/.local/lib/python3.12/site-packages/sklearn/linear_model/_coordinate_descent.py:683: ConvergenceWarning: Objective did not converge. You might want to increase the number of iterations. Duality gap: 10.573167854707691, tolerance: 0.1770721419972765\n",
      "  model = cd_fast.enet_coordinate_descent_gram(\n",
      "/home/codespace/.local/lib/python3.12/site-packages/sklearn/linear_model/_coordinate_descent.py:683: ConvergenceWarning: Objective did not converge. You might want to increase the number of iterations. Duality gap: 12.360118845333119, tolerance: 0.1770721419972765\n",
      "  model = cd_fast.enet_coordinate_descent_gram(\n",
      "/home/codespace/.local/lib/python3.12/site-packages/sklearn/linear_model/_coordinate_descent.py:683: ConvergenceWarning: Objective did not converge. You might want to increase the number of iterations. Duality gap: 13.984217218722321, tolerance: 0.1770721419972765\n",
      "  model = cd_fast.enet_coordinate_descent_gram(\n",
      "/home/codespace/.local/lib/python3.12/site-packages/sklearn/linear_model/_coordinate_descent.py:683: ConvergenceWarning: Objective did not converge. You might want to increase the number of iterations. Duality gap: 15.453168831882195, tolerance: 0.1770721419972765\n",
      "  model = cd_fast.enet_coordinate_descent_gram(\n",
      "/home/codespace/.local/lib/python3.12/site-packages/sklearn/linear_model/_coordinate_descent.py:683: ConvergenceWarning: Objective did not converge. You might want to increase the number of iterations. Duality gap: 16.7779588644714, tolerance: 0.1770721419972765\n",
      "  model = cd_fast.enet_coordinate_descent_gram(\n",
      "/home/codespace/.local/lib/python3.12/site-packages/sklearn/linear_model/_coordinate_descent.py:683: ConvergenceWarning: Objective did not converge. You might want to increase the number of iterations. Duality gap: 17.97067617219349, tolerance: 0.1770721419972765\n",
      "  model = cd_fast.enet_coordinate_descent_gram(\n",
      "/home/codespace/.local/lib/python3.12/site-packages/sklearn/linear_model/_coordinate_descent.py:683: ConvergenceWarning: Objective did not converge. You might want to increase the number of iterations. Duality gap: 1.1399176207295554, tolerance: 0.12981205136987242\n",
      "  model = cd_fast.enet_coordinate_descent_gram(\n",
      "/home/codespace/.local/lib/python3.12/site-packages/sklearn/linear_model/_coordinate_descent.py:683: ConvergenceWarning: Objective did not converge. You might want to increase the number of iterations. Duality gap: 0.14476794123142867, tolerance: 0.12981205136987242\n",
      "  model = cd_fast.enet_coordinate_descent_gram(\n",
      "/home/codespace/.local/lib/python3.12/site-packages/sklearn/linear_model/_coordinate_descent.py:683: ConvergenceWarning: Objective did not converge. You might want to increase the number of iterations. Duality gap: 0.4746747169983365, tolerance: 0.12981205136987242\n",
      "  model = cd_fast.enet_coordinate_descent_gram(\n",
      "/home/codespace/.local/lib/python3.12/site-packages/sklearn/linear_model/_coordinate_descent.py:683: ConvergenceWarning: Objective did not converge. You might want to increase the number of iterations. Duality gap: 5.589760945208724, tolerance: 0.12981205136987242\n",
      "  model = cd_fast.enet_coordinate_descent_gram(\n",
      "/home/codespace/.local/lib/python3.12/site-packages/sklearn/linear_model/_coordinate_descent.py:683: ConvergenceWarning: Objective did not converge. You might want to increase the number of iterations. Duality gap: 0.2866067627366462, tolerance: 0.18494964937632433\n",
      "  model = cd_fast.enet_coordinate_descent_gram(\n",
      "/home/codespace/.local/lib/python3.12/site-packages/sklearn/linear_model/_coordinate_descent.py:683: ConvergenceWarning: Objective did not converge. You might want to increase the number of iterations. Duality gap: 1.3313580436434762, tolerance: 0.18494964937632433\n",
      "  model = cd_fast.enet_coordinate_descent_gram(\n",
      "/home/codespace/.local/lib/python3.12/site-packages/sklearn/linear_model/_coordinate_descent.py:683: ConvergenceWarning: Objective did not converge. You might want to increase the number of iterations. Duality gap: 2.5281383223707365, tolerance: 0.18494964937632433\n",
      "  model = cd_fast.enet_coordinate_descent_gram(\n",
      "/home/codespace/.local/lib/python3.12/site-packages/sklearn/linear_model/_coordinate_descent.py:683: ConvergenceWarning: Objective did not converge. You might want to increase the number of iterations. Duality gap: 3.8602503392245353, tolerance: 0.18494964937632433\n",
      "  model = cd_fast.enet_coordinate_descent_gram(\n",
      "/home/codespace/.local/lib/python3.12/site-packages/sklearn/linear_model/_coordinate_descent.py:683: ConvergenceWarning: Objective did not converge. You might want to increase the number of iterations. Duality gap: 5.274024770200711, tolerance: 0.18494964937632433\n",
      "  model = cd_fast.enet_coordinate_descent_gram(\n",
      "/home/codespace/.local/lib/python3.12/site-packages/sklearn/linear_model/_coordinate_descent.py:683: ConvergenceWarning: Objective did not converge. You might want to increase the number of iterations. Duality gap: 6.7119817290979, tolerance: 0.18494964937632433\n",
      "  model = cd_fast.enet_coordinate_descent_gram(\n",
      "/home/codespace/.local/lib/python3.12/site-packages/sklearn/linear_model/_coordinate_descent.py:683: ConvergenceWarning: Objective did not converge. You might want to increase the number of iterations. Duality gap: 8.077714834599604, tolerance: 0.18494964937632433\n",
      "  model = cd_fast.enet_coordinate_descent_gram(\n",
      "/home/codespace/.local/lib/python3.12/site-packages/sklearn/linear_model/_coordinate_descent.py:683: ConvergenceWarning: Objective did not converge. You might want to increase the number of iterations. Duality gap: 10.168752285108717, tolerance: 0.18494964937632433\n",
      "  model = cd_fast.enet_coordinate_descent_gram(\n",
      "/home/codespace/.local/lib/python3.12/site-packages/sklearn/linear_model/_coordinate_descent.py:683: ConvergenceWarning: Objective did not converge. You might want to increase the number of iterations. Duality gap: 11.715509685810325, tolerance: 0.18494964937632433\n",
      "  model = cd_fast.enet_coordinate_descent_gram(\n",
      "/home/codespace/.local/lib/python3.12/site-packages/sklearn/linear_model/_coordinate_descent.py:683: ConvergenceWarning: Objective did not converge. You might want to increase the number of iterations. Duality gap: 13.126244949235705, tolerance: 0.18494964937632433\n",
      "  model = cd_fast.enet_coordinate_descent_gram(\n",
      "/home/codespace/.local/lib/python3.12/site-packages/sklearn/linear_model/_coordinate_descent.py:683: ConvergenceWarning: Objective did not converge. You might want to increase the number of iterations. Duality gap: 14.405006581944274, tolerance: 0.18494964937632433\n",
      "  model = cd_fast.enet_coordinate_descent_gram(\n"
     ]
    },
    {
     "data": {
      "image/png": "[encoded data removed]",
      "text/plain": [
       "<Figure size 1000x600 with 1 Axes>"
      ]
     },
     "metadata": {},
     "output_type": "display_data"
    },
    {
     "name": "stdout",
     "output_type": "stream",
     "text": [
      "Lasso Coefficients:\n",
      "1: 0.0000\n",
      "X: 2.9059\n",
      "X^2: -1.5080\n",
      "X^3: 1.1146\n",
      "X^4: -0.0000\n",
      "X^5: -0.0000\n",
      "X^6: -0.0000\n",
      "X^7: 0.0000\n",
      "X^8: -0.0000\n",
      "X^9: 0.0000\n",
      "X^10: -0.2950\n"
     ]
    }
   ],
   "source": [
    "#(e) Now fit a lasso model to the simulated data, again using X,X2, . . . , X 10 as predictors. \n",
    "# Use cross-validation to select the optimal value of λ. Create plots of the cross-validation error as\n",
    "# a function of λ. Report the resulting coefficient estimates, and discuss the results obtained.\n",
    "\n",
    "data = pd.DataFrame({'X': X, 'Y': Y})\n",
    "poly = PolynomialFeatures(degree=10)\n",
    "X_poly = poly.fit_transform(data[['X']])\n",
    "\n",
    "X_train, X_test, y_train, y_test = train_test_split(X_poly, Y, test_size=0.2, random_state=42)\n",
    "\n",
    "scaler = StandardScaler()\n",
    "X_train_scaled = scaler.fit_transform(X_train)\n",
    "X_test_scaled = scaler.transform(X_test)\n",
    "\n",
    "lasso_cv = LassoCV(alphas=np.logspace(-4, 4, 100), cv=10)\n",
    "lasso_cv.fit(X_train_scaled, y_train)\n",
    "\n",
    "optimal_lambda = lasso_cv.alpha_\n",
    "print(f\"Optimal lambda: {optimal_lambda:.4f}\")\n",
    "\n",
    "plt.figure(figsize=(10, 6))\n",
    "plt.plot(lasso_cv.alphas_, lasso_cv.mse_path_, ':')\n",
    "plt.plot(lasso_cv.alphas_, lasso_cv.mse_path_.mean(axis=1), 'b', label='Mean CV Error')\n",
    "plt.axvline(optimal_lambda, linestyle='--', color='r', label='Optimal Lambda')\n",
    "plt.xscale('log')\n",
    "plt.xlabel('Lambda')\n",
    "plt.ylabel('Mean Squared Error')\n",
    "plt.title('Lasso Cross-Validation Error')\n",
    "plt.legend()\n",
    "plt.grid()\n",
    "plt.show()\n",
    "\n",
    "lasso_coefs = lasso_cv.coef_\n",
    "print(\"Lasso Coefficients:\")\n",
    "for feature, coef in zip(poly.get_feature_names_out(), lasso_coefs):\n",
    "    print(f\"{feature}: {coef:.4f}\")"
   ]
  },
  {
   "cell_type": "markdown",
   "metadata": {},
   "source": [
    "The coefficients for X^4 through X^9 are 0.0000. This indicates that Lasso has effectively eliminated these terms from the model, suggesting they do not contribute significantly to predicting Y.The lamba value 0.0050\n",
    "minimizes the cross-validation error. A smaller value indicates a less aggressive penalty, allowing more coefficients to remain non-zero."
   ]
  },
  {
   "cell_type": "markdown",
   "metadata": {},
   "source": [
    "11. We will now try to predict per capita crime rate in the Boston data set.\n",
    "\n",
    "(a) Try out some of the regression methods explored in this chapter, such as best subset selection, the lasso, ridge regression. Present and discuss results for the approaches that you consider."
   ]
  },
  {
   "cell_type": "code",
   "execution_count": 98,
   "metadata": {},
   "outputs": [
    {
     "name": "stdout",
     "output_type": "stream",
     "text": [
      "   Unnamed: 0     crim    zn  indus  chas    nox     rm   age     dis  rad  \\\n",
      "0           1  0.00632  18.0   2.31     0  0.538  6.575  65.2  4.0900    1   \n",
      "1           2  0.02731   0.0   7.07     0  0.469  6.421  78.9  4.9671    2   \n",
      "2           3  0.02729   0.0   7.07     0  0.469  7.185  61.1  4.9671    2   \n",
      "3           4  0.03237   0.0   2.18     0  0.458  6.998  45.8  6.0622    3   \n",
      "4           5  0.06905   0.0   2.18     0  0.458  7.147  54.2  6.0622    3   \n",
      "\n",
      "   tax  ptratio  lstat  medv  \n",
      "0  296     15.3   4.98  24.0  \n",
      "1  242     17.8   9.14  21.6  \n",
      "2  242     17.8   4.03  34.7  \n",
      "3  222     18.7   2.94  33.4  \n",
      "4  222     18.7   5.33  36.2  \n"
     ]
    }
   ],
   "source": [
    "boston= pd.read_csv('Boston.csv') \n",
    "print(boston.head())"
   ]
  },
  {
   "cell_type": "code",
   "execution_count": 99,
   "metadata": {},
   "outputs": [
    {
     "name": "stdout",
     "output_type": "stream",
     "text": [
      "Best Subset Model Summary:\n",
      "                            OLS Regression Results                            \n",
      "==============================================================================\n",
      "Dep. Variable:                   crim   R-squared:                       0.425\n",
      "Model:                            OLS   Adj. R-squared:                  0.417\n",
      "Method:                 Least Squares   F-statistic:                     49.00\n",
      "Date:                Sat, 16 Nov 2024   Prob (F-statistic):           6.10e-45\n",
      "Time:                        05:38:53   Log-Likelihood:                -1342.8\n",
      "No. Observations:                 404   AIC:                             2700.\n",
      "Df Residuals:                     397   BIC:                             2728.\n",
      "Df Model:                           6                                         \n",
      "Covariance Type:            nonrobust                                         \n",
      "==============================================================================\n",
      "                 coef    std err          t      P>|t|      [0.025      0.975]\n",
      "------------------------------------------------------------------------------\n",
      "const         20.5072      6.669      3.075      0.002       7.395      33.619\n",
      "zn             0.0410      0.022      1.886      0.060      -0.002       0.084\n",
      "nox          -12.7563      5.519     -2.311      0.021     -23.606      -1.907\n",
      "dis           -1.0616      0.301     -3.527      0.000      -1.653      -0.470\n",
      "rad            0.5918      0.057     10.444      0.000       0.480       0.703\n",
      "ptratio       -0.3523      0.212     -1.663      0.097      -0.769       0.064\n",
      "medv          -0.2332      0.047     -4.986      0.000      -0.325      -0.141\n",
      "==============================================================================\n",
      "Omnibus:                      542.620   Durbin-Watson:                   2.103\n",
      "Prob(Omnibus):                  0.000   Jarque-Bera (JB):            62605.915\n",
      "Skew:                           6.656   Prob(JB):                         0.00\n",
      "Kurtosis:                      62.514   Cond. No.                         866.\n",
      "==============================================================================\n",
      "\n",
      "Notes:\n",
      "[1] Standard Errors assume that the covariance matrix of the errors is correctly specified.\n",
      "Selected Predictors: ('zn', 'nox', 'dis', 'rad', 'ptratio', 'medv')\n"
     ]
    }
   ],
   "source": [
    "X = boston.drop(columns=['crim'])\n",
    "y = boston['crim'] \n",
    "\n",
    "X_train, X_test, y_train, y_test = train_test_split(X, y, test_size=0.2, random_state=42)\n",
    "\n",
    "def best_subset_selection(X, y):\n",
    "    best_aic = float('inf')\n",
    "    best_model = None\n",
    "    best_predictors = None\n",
    "\n",
    "    for k in range(1, X.shape[1] + 1):\n",
    "        for combo in itertools.combinations(X.columns, k):\n",
    "            X_subset = sm.add_constant(X[list(combo)])\n",
    "            model = sm.OLS(y, X_subset).fit()\n",
    "            aic = model.aic\n",
    "            \n",
    "            if aic < best_aic:\n",
    "                best_aic = aic\n",
    "                best_model = model\n",
    "                best_predictors = combo\n",
    "                \n",
    "    return best_model, best_predictors\n",
    "\n",
    "best_model, best_predictors = best_subset_selection(X_train, y_train)\n",
    "\n",
    "print(\"Best Subset Model Summary:\")\n",
    "print(best_model.summary())\n",
    "print(f\"Selected Predictors: {best_predictors}\")"
   ]
  },
  {
   "cell_type": "code",
   "execution_count": 100,
   "metadata": {},
   "outputs": [
    {
     "name": "stdout",
     "output_type": "stream",
     "text": [
      "Optimal Lambda for Lasso: 0.0464\n"
     ]
    }
   ],
   "source": [
    "scaler = StandardScaler()\n",
    "X_train_scaled = scaler.fit_transform(X_train)\n",
    "X_test_scaled = scaler.transform(X_test)\n",
    "\n",
    "lasso_cv = LassoCV(alphas=np.logspace(-4, 4, 100), cv=10)\n",
    "lasso_cv.fit(X_train_scaled, y_train)\n",
    "\n",
    "optimal_lambda = lasso_cv.alpha_\n",
    "print(f\"Optimal Lambda for Lasso: {optimal_lambda:.4f}\")"
   ]
  },
  {
   "cell_type": "code",
   "execution_count": 101,
   "metadata": {},
   "outputs": [
    {
     "name": "stdout",
     "output_type": "stream",
     "text": [
      "Lasso Coefficients:\n",
      "Unnamed: 0: -0.0491\n",
      "zn: 0.8226\n",
      "indus: -0.1822\n",
      "chas: -0.2364\n",
      "nox: -1.0221\n",
      "rm: 0.3728\n",
      "age: 0.1563\n",
      "dis: -1.8315\n",
      "rad: 4.9060\n",
      "tax: -0.0000\n",
      "ptratio: -0.5685\n",
      "lstat: 0.2483\n",
      "medv: -2.0301\n"
     ]
    }
   ],
   "source": [
    "lasso_coefs = lasso_cv.coef_\n",
    "print(\"Lasso Coefficients:\")\n",
    "for feature, coef in zip(X.columns, lasso_coefs):\n",
    "    print(f\"{feature}: {coef:.4f}\")"
   ]
  },
  {
   "cell_type": "code",
   "execution_count": 102,
   "metadata": {},
   "outputs": [
    {
     "name": "stdout",
     "output_type": "stream",
     "text": [
      "Optimal Lambda for Ridge: 5.8570\n",
      "Ridge Coefficients:\n",
      "Unnamed: 0: -0.0857\n",
      "zn: 0.9123\n",
      "indus: -0.2437\n",
      "chas: -0.2659\n",
      "nox: -1.1763\n",
      "rm: 0.4803\n",
      "age: 0.2369\n",
      "dis: -1.9891\n",
      "rad: 4.9656\n",
      "tax: -0.0610\n",
      "ptratio: -0.6257\n",
      "lstat: 0.3416\n",
      "medv: -2.1447\n"
     ]
    },
    {
     "name": "stderr",
     "output_type": "stream",
     "text": [
      "/home/codespace/.local/lib/python3.12/site-packages/sklearn/linear_model/_ridge.py:2341: FutureWarning: 'store_cv_values' is deprecated in version 1.5 and will be removed in 1.7. Use 'store_cv_results' instead.\n",
      "  warnings.warn(\n"
     ]
    }
   ],
   "source": [
    "ridge_cv = RidgeCV(alphas=np.logspace(-4, 4, 100), store_cv_values=True)\n",
    "ridge_cv.fit(X_train_scaled, y_train)\n",
    "\n",
    "optimal_lambda_ridge = ridge_cv.alpha_\n",
    "print(f\"Optimal Lambda for Ridge: {optimal_lambda_ridge:.4f}\")\n",
    "\n",
    "ridge_coefs = ridge_cv.coef_\n",
    "print(\"Ridge Coefficients:\")\n",
    "for feature, coef in zip(X.columns, ridge_coefs):\n",
    "    print(f\"{feature}: {coef:.4f}\")\n"
   ]
  },
  {
   "cell_type": "markdown",
   "metadata": {},
   "source": [
    "Model Performance: The best subset model explains a moderate amount of variance in the crime rate. Lasso and Ridge regression provide additional insights with regularization, helping to manage overfitting.\n",
    "Significant Predictors: nox, dis, and medv are consistently significant across models, indicating their strong influence on the crime rate.\n",
    "Lasso is particularly useful for simplifying the model by selecting only important features."
   ]
  },
  {
   "cell_type": "code",
   "execution_count": 103,
   "metadata": {},
   "outputs": [
    {
     "name": "stdout",
     "output_type": "stream",
     "text": [
      "Linear Regression: RMSE (Cross-Validation) = 6.8654\n",
      "Lasso Regression: RMSE (Cross-Validation) = 6.9191\n",
      "Ridge Regression: RMSE (Cross-Validation) = 6.8788\n",
      "Linear Regression: Test RMSE = 5.0390\n",
      "Lasso Regression: Test RMSE = 5.1776\n",
      "Ridge Regression: Test RMSE = 5.0118\n"
     ]
    }
   ],
   "source": [
    "#(b) Propose a model (or set of models) that seem to perform well on this data set, and justify your answer. \n",
    "\n",
    "models = {\n",
    "    'Linear Regression': LinearRegression(),\n",
    "    'Lasso Regression': LassoCV(cv=10),\n",
    "    'Ridge Regression': RidgeCV(cv=10),\n",
    "}\n",
    "\n",
    "results = {}\n",
    "for name, model in models.items():\n",
    "    scores = cross_val_score(model, X_train, y_train, scoring='neg_mean_squared_error', cv=10)\n",
    "    rmse = np.sqrt(-scores.mean())\n",
    "    results[name] = rmse\n",
    "    print(f\"{name}: RMSE (Cross-Validation) = {rmse:.4f}\")\n",
    "\n",
    "for name, model in models.items():\n",
    "    model.fit(X_train, y_train)\n",
    "    y_pred = model.predict(X_test)\n",
    "    \n",
    "    test_rmse = np.sqrt(mean_squared_error(y_test, y_pred))\n",
    "    print(f\"{name}: Test RMSE = {test_rmse:.4f}\")"
   ]
  },
  {
   "cell_type": "markdown",
   "metadata": {},
   "source": [
    "Ridge Regression performed the best on the test set, suggesting it is effective at managing multicollinearity and preventing overfitting while still considering all features.\n",
    "\n",
    "Linear Regression also performed well, indicating that the linear relationships captured by the model are strong.\n",
    "Lasso Regression, while valuable for feature selection, might not capture the best predictive power in this specific dataset."
   ]
  },
  {
   "cell_type": "markdown",
   "metadata": {},
   "source": [
    "(c) Does your chosen model involve all of the features in the data set? Why or why not?\n",
    "\n",
    "Ridge Regression involves all features in the dataset because it uses L2 regularization, which shrinks coefficients but does not set any of them to zero. "
   ]
  }
 ],
 "metadata": {
  "kernelspec": {
   "display_name": "Python 3",
   "language": "python",
   "name": "python3"
  },
  "language_info": {
   "codemirror_mode": {
    "name": "ipython",
    "version": 3
   },
   "file_extension": ".py",
   "mimetype": "text/x-python",
   "name": "python",
   "nbconvert_exporter": "python",
   "pygments_lexer": "ipython3",
   "version": "3.12.1"
  }
 },
 "nbformat": 4,
 "nbformat_minor": 2
}
